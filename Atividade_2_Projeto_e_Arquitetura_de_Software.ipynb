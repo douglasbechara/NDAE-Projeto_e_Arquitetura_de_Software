{
  "nbformat": 4,
  "nbformat_minor": 0,
  "metadata": {
    "colab": {
      "provenance": [],
      "authorship_tag": "ABX9TyOhLOueXZwcB+9oQqk3A3IQ",
      "include_colab_link": true
    },
    "kernelspec": {
      "name": "python3",
      "display_name": "Python 3"
    },
    "language_info": {
      "name": "python"
    }
  },
  "cells": [
    {
      "cell_type": "markdown",
      "metadata": {
        "id": "view-in-github",
        "colab_type": "text"
      },
      "source": [
        "<a href=\"https://colab.research.google.com/github/douglasbechara/NDAE-Projeto_e_Arquitetura_de_Software/blob/main/Atividade_2_Projeto_e_Arquitetura_de_Software.ipynb\" target=\"_parent\"><img src=\"https://colab.research.google.com/assets/colab-badge.svg\" alt=\"Open In Colab\"/></a>"
      ]
    },
    {
      "cell_type": "markdown",
      "source": [
        "#**Universidade Federal do Pará**\n",
        "*Núcleo de Desenvolvimento Amazônico em Engenharia - NDAE*\n",
        "\n",
        "*Programa de Pós-graducação em Computação Aplicada - PPCA*\n",
        "\n",
        "*Disciplina: Projeto e Arquitetura de Software*\n",
        "- Professor Dr. Rodrigo Quites\n",
        "- Discente: Douglas Bechara Santos\n",
        "\n",
        "\n"
      ],
      "metadata": {
        "id": "0s_veHp8wBKr"
      }
    },
    {
      "cell_type": "markdown",
      "source": [
        "# **1.Definição do problema**\n",
        "\n",
        "Implementação do padrão **Decorator** para um sistema de pedidos em uma sorveteria, onde os sorvetes podem ser servidos em diferentes recipientes (copo, taça, ou casquinha), com sabores variados e coberturas adicionais. O Decorator deve ser usado para adicionar dinamicamente essas funcionalidades aos objetos de sorvete."
      ],
      "metadata": {
        "id": "dwfao_CTym2a"
      }
    },
    {
      "cell_type": "markdown",
      "source": [
        "# 2. Estrutura do Problema\n",
        "\n",
        "Recipientes:\n",
        "\n",
        "- Copo: R$ 0,20\n",
        "\n",
        "- Taça: Sem custo\n",
        "\n",
        "- Casquinha: R$ 1,50\n",
        "\n",
        "Sabores:\n",
        "\n",
        "- Chocolate, Morango, Flocos, Pavê, Napolitano: R$ 1,50 cada bola.\n",
        "\n",
        "- Chocolate Diet: R$ 2,00 cada bola.\n",
        "\n",
        "Coberturas:\n",
        "\n",
        "Cobertura de Chocolate, Cobertura de Morango, Cobertura de Caramelo: R$ 0,50 cada.\n",
        "\n",
        "O Decorator será usado para adicionar essas opções ao pedido, sem precisar criar múltiplas subclasses para cada combinação possível de sorvete."
      ],
      "metadata": {
        "id": "eVr-4A2R2gFF"
      }
    },
    {
      "cell_type": "markdown",
      "source": [
        "# 3. Passo a Passo para Implementação\n",
        "1. Interface Base para o Sorvete:\n",
        "\n",
        "Uma interface comum chamada Sorvete que define o método get_preco() para obter o preço do sorvete.\n",
        "\n",
        "2. Implementação Base (Sorvete Simples):\n",
        "\n",
        "Implementaremos os diferentes tipos de sorvete (sabores) que herdam da interface Sorvete.\n",
        "\n",
        "3. Decorator de Recipiente:\n",
        "\n",
        "Um Decorator que envolverá o sorvete base e adicionará o custo do recipiente (copo, taça, ou casquinha).\n",
        "\n",
        "4. Decorator de Cobertura:\n",
        "\n",
        "Um Decorator para adicionar coberturas ao sorvete e calcular o custo adicional."
      ],
      "metadata": {
        "id": "9okPCChS28Zs"
      }
    },
    {
      "cell_type": "code",
      "source": [
        "from abc import ABC, abstractmethod\n",
        "\n",
        "# Interface base para Sorvete\n",
        "class Sorvete(ABC):\n",
        "    @abstractmethod\n",
        "    def get_preco(self):\n",
        "        pass\n",
        "\n",
        "# Sorvetes Simples (sabores)\n",
        "class Chocolate(Sorvete):\n",
        "    def get_preco(self):\n",
        "        return 1.50\n",
        "\n",
        "class Morango(Sorvete):\n",
        "    def get_preco(self):\n",
        "        return 1.50\n",
        "\n",
        "class Flocos(Sorvete):\n",
        "    def get_preco(self):\n",
        "        return 1.50\n",
        "\n",
        "class Pave(Sorvete):\n",
        "    def get_preco(self):\n",
        "        return 1.50\n",
        "\n",
        "class Napolitano(Sorvete):\n",
        "    def get_preco(self):\n",
        "        return 1.50\n",
        "\n",
        "class ChocolateDiet(Sorvete):\n",
        "    def get_preco(self):\n",
        "        return 2.00\n",
        "\n",
        "# Decorator Base\n",
        "class SorveteDecorator(Sorvete):\n",
        "    def __init__(self, sorvete):\n",
        "        self._sorvete = sorvete\n",
        "\n",
        "    def get_preco(self):\n",
        "        return self._sorvete.get_preco()\n",
        "\n",
        "# Decorator para Recipientes\n",
        "class Copo(SorveteDecorator):\n",
        "    def get_preco(self):\n",
        "        return self._sorvete.get_preco() + 0.20\n",
        "\n",
        "class Casquinha(SorveteDecorator):\n",
        "    def get_preco(self):\n",
        "        return self._sorvete.get_preco() + 1.50\n",
        "\n",
        "class Taca(SorveteDecorator):\n",
        "    def get_preco(self):\n",
        "        return self._sorvete.get_preco()  # Taça é sem custo adicional\n",
        "\n",
        "# Decorator para Coberturas\n",
        "class CoberturaChocolate(SorveteDecorator):\n",
        "    def get_preco(self):\n",
        "        return self._sorvete.get_preco() + 0.50\n",
        "\n",
        "class CoberturaMorango(SorveteDecorator):\n",
        "    def get_preco(self):\n",
        "        return self._sorvete.get_preco() + 0.50\n",
        "\n",
        "class CoberturaCaramelo(SorveteDecorator):\n",
        "    def get_preco(self):\n",
        "        return self._sorvete.get_preco() + 0.50\n",
        "\n",
        "# Testando o padrão Decorator\n",
        "if __name__ == \"__main__\":\n",
        "    # Sorvete de Chocolate em Casquinha com Cobertura de Chocolate\n",
        "    sorvete = Chocolate()\n",
        "    sorvete = Casquinha(sorvete)\n",
        "    sorvete = CoberturaChocolate(sorvete)\n",
        "\n",
        "    print(f\"Preço total: R${sorvete.get_preco():.2f}\")\n",
        "\n",
        "    # Sorvete de Morango em Taça com Cobertura de Morango\n",
        "    sorvete2 = Morango()\n",
        "    sorvete2 = Taca(sorvete2)\n",
        "    sorvete2 = CoberturaMorango(sorvete2)\n",
        "\n",
        "    print(f\"Preço total: R${sorvete2.get_preco():.2f}\")\n"
      ],
      "metadata": {
        "colab": {
          "base_uri": "https://localhost:8080/"
        },
        "id": "BrSqHBs2Gyg-",
        "outputId": "ce88175b-4e9e-4337-dfcf-da76f2b720bc"
      },
      "execution_count": 1,
      "outputs": [
        {
          "output_type": "stream",
          "name": "stdout",
          "text": [
            "Preço total: R$3.50\n",
            "Preço total: R$2.00\n"
          ]
        }
      ]
    },
    {
      "cell_type": "markdown",
      "source": [
        "# Explicação do Código\n",
        "1. Interface Sorvete:\n",
        "\n",
        "Define a base para todos os sorvetes e decorators com o método get_preco(), que será implementado em cada classe concreta.\n",
        "\n",
        "2. Classes de Sorvete Simples:\n",
        "\n",
        "São as implementações concretas dos sabores de sorvete, como Chocolate, Morango, etc. Cada sabor retorna o preço fixo por bola.\n",
        "\n",
        "3. Decorator Base (SorveteDecorator):\n",
        "\n",
        "Todos os decorators (recipientes e coberturas) herdam de SorveteDecorator, que guarda a referência ao sorvete original. Os decorators podem adicionar custos extras ao preço final do sorvete.\n",
        "\n",
        "4. Decorators de Recipiente:\n",
        "\n",
        "Adicionam o custo adicional de acordo com o tipo de recipiente (copo, taça ou casquinha).\n",
        "\n",
        "5. Decorators de Cobertura:\n",
        "\n",
        "Adicionam o custo de coberturas (chocolate, morango, caramelo).\n",
        "\n",
        "6. No bloco { if __name__ == \"__main__\" }, o código monta dois exemplos de pedidos:\n",
        "\n",
        "- Um sorvete de chocolate em casquinha com cobertura de chocolate.\n",
        "- Um sorvete de morango em taça com cobertura de morango."
      ],
      "metadata": {
        "id": "wb8AqwZLHIFR"
      }
    }
  ]
}