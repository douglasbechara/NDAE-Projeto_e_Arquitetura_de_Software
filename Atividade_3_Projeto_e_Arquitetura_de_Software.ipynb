{
  "nbformat": 4,
  "nbformat_minor": 0,
  "metadata": {
    "colab": {
      "provenance": [],
      "authorship_tag": "ABX9TyPR7INs1LCBlDPeUe/uNOM1",
      "include_colab_link": true
    },
    "kernelspec": {
      "name": "python3",
      "display_name": "Python 3"
    },
    "language_info": {
      "name": "python"
    }
  },
  "cells": [
    {
      "cell_type": "markdown",
      "metadata": {
        "id": "view-in-github",
        "colab_type": "text"
      },
      "source": [
        "<a href=\"https://colab.research.google.com/github/douglasbechara/NDAE-Projeto_e_Arquitetura_de_Software/blob/main/Atividade_3_Projeto_e_Arquitetura_de_Software.ipynb\" target=\"_parent\"><img src=\"https://colab.research.google.com/assets/colab-badge.svg\" alt=\"Open In Colab\"/></a>"
      ]
    },
    {
      "cell_type": "markdown",
      "source": [
        "#**Universidade Federal do Pará**\n",
        "*Núcleo de Desenvolvimento Amazônico em Engenharia - NDAE*\n",
        "\n",
        "*Programa de Pós-graducação em Computação Aplicada - PPCA*\n",
        "\n",
        "*Disciplina: Projeto e Arquitetura de Software*\n",
        "- Professor Dr. Rodrigo Quites\n",
        "- Discente: Douglas Bechara Santos\n",
        "\n",
        "\n"
      ],
      "metadata": {
        "id": "0s_veHp8wBKr"
      }
    },
    {
      "cell_type": "markdown",
      "source": [
        "# **Exercício 1**\n",
        "Qual o padrão de projeto é mais adequado para ser usado no desenvolvimento deste sistema?\n",
        "\n",
        "O padrão de projeto mais adequado para este cenário é o Decorator. O Decorator permite adicionar dinamicamente funcionalidades a objetos individuais sem afetar outros objetos da mesma classe. Neste caso, cada palavra no texto pode ser \"decorada\" com diferentes formatações, como negrito, itálico, ou sublinhado. O padrão Decorator é perfeito para adicionar essas variações dinâmicas de formatação, mantendo a mesma interface de renderização."
      ],
      "metadata": {
        "id": "dwfao_CTym2a"
      }
    },
    {
      "cell_type": "markdown",
      "source": [
        "# **Exercício 2**\n",
        "\n",
        "Implemente as classes que permitem representar o texto completo, as palavras e respectivas modificações gráficas.\n",
        "\n",
        "A implementação utilizará o padrão Decorator para aplicar as formatações dinâmicas às palavras no texto. Podemos implementar as **classes Texto** e **Palavra**, assim como as respectivas decorações para **negrito**, **itálico**, e **sublinhado**."
      ],
      "metadata": {
        "id": "eVr-4A2R2gFF"
      }
    },
    {
      "cell_type": "code",
      "source": [
        "from abc import ABC, abstractmethod\n",
        "\n",
        "# Classe abstrata TextoBase (base para Texto e Decorações)\n",
        "class TextoBase(ABC):\n",
        "    # Método abstrato para renderizar o texto (a ser implementado pelas subclasses)\n",
        "    @abstractmethod\n",
        "    def render(self):\n",
        "        pass\n",
        "\n",
        "    # Método abstrato para retornar o texto puro\n",
        "    @abstractmethod\n",
        "    def text(self):\n",
        "        pass\n",
        "\n",
        "# Classe Palavra que representa o conteúdo básico de texto\n",
        "class Palavra(TextoBase):\n",
        "    def __init__(self, conteudo):\n",
        "        # Inicializa a palavra com o conteúdo fornecido\n",
        "        self.conteudo = conteudo\n",
        "\n",
        "    # Método que retorna a palavra para exibição (sem formatação)\n",
        "    def render(self):\n",
        "        return self.conteudo\n",
        "\n",
        "    # Método que retorna o texto puro (conteúdo da palavra)\n",
        "    def text(self):\n",
        "        return self.conteudo\n",
        "\n",
        "# Decorator base que serve de base para outras decorações\n",
        "class DecoratorTexto(TextoBase):\n",
        "    def __init__(self, texto):\n",
        "        # Inicializa o decorator com uma instância de TextoBase\n",
        "        self.texto = texto\n",
        "\n",
        "    # Método que delega a renderização ao objeto encapsulado\n",
        "    def render(self):\n",
        "        return self.texto.render()\n",
        "\n",
        "    # Método que delega a obtenção do texto ao objeto encapsulado\n",
        "    def text(self):\n",
        "        return self.texto.text()\n",
        "\n",
        "# Decorator para Negrito\n",
        "class Negrito(DecoratorTexto):\n",
        "    # Método que adiciona a tag <b> para exibir o texto em negrito\n",
        "    def render(self):\n",
        "        return f\"<b>{self.texto.render()}</b>\"\n",
        "\n",
        "# Decorator para Itálico\n",
        "class Italico(DecoratorTexto):\n",
        "    # Método que adiciona a tag <i> para exibir o texto em itálico\n",
        "    def render(self):\n",
        "        return f\"<i>{self.texto.render()}</i>\"\n",
        "\n",
        "# Decorator para Sublinhado\n",
        "class Sublinhado(DecoratorTexto):\n",
        "    # Método que adiciona a tag <u> para exibir o texto sublinhado\n",
        "    def render(self):\n",
        "        return f\"<u>{self.texto.render()}</u>\"\n",
        "\n",
        "# Teste do comportamento\n",
        "if __name__ == \"__main__\":\n",
        "    # Criando uma palavra sem formatação\n",
        "    palavra = Palavra(\"exemplo\")\n",
        "\n",
        "    # Aplicando a decoração de negrito à palavra\n",
        "    palavra_negrito = Negrito(palavra)\n",
        "\n",
        "    # Aplicando a decoração de itálico sobre a palavra já em negrito\n",
        "    palavra_italico = Italico(palavra_negrito)\n",
        "\n",
        "    # Aplicando a decoração de sublinhado sobre a palavra em negrito e itálico\n",
        "    palavra_sublinhada = Sublinhado(palavra_italico)\n",
        "\n",
        "    # Renderizando as palavras com as formatações aplicadas\n",
        "    print(\"Texto normal:\", palavra.render())  # Saída: exemplo (sem formatação)\n",
        "    print(\"Texto em negrito:\", palavra_negrito.render())  # Saída: <b>exemplo</b>\n",
        "    print(\"Texto em negrito e itálico:\", palavra_italico.render())  # Saída: <i><b>exemplo</b></i>\n",
        "    print(\"Texto em negrito, itálico e sublinhado:\", palavra_sublinhada.render())  # Saída: <u><i><b>exemplo</b></i></u>\n",
        "\n",
        "    # Exibindo o texto original sem formatação\n",
        "    print(\"Texto original:\", palavra.text())  # Saída: exemplo\n"
      ],
      "metadata": {
        "colab": {
          "base_uri": "https://localhost:8080/"
        },
        "id": "BrSqHBs2Gyg-",
        "outputId": "5d8dcf2d-941a-4e3f-af3e-8363d8e3d0f2"
      },
      "execution_count": 1,
      "outputs": [
        {
          "output_type": "stream",
          "name": "stdout",
          "text": [
            "Texto normal: exemplo\n",
            "Texto em negrito: <b>exemplo</b>\n",
            "Texto em negrito e itálico: <i><b>exemplo</b></i>\n",
            "Texto em negrito, itálico e sublinhado: <u><i><b>exemplo</b></i></u>\n",
            "Texto original: exemplo\n"
          ]
        }
      ]
    },
    {
      "cell_type": "markdown",
      "source": [
        "# Explicação do Código\n",
        "1. Interface TextoBase:\n",
        "\n",
        "TextoBase define a interface para todos os elementos de texto, como palavras e seus decorators. Inclui dois métodos abstratos:\n",
        "- render(): Para renderizar o texto com a formatação aplicada.\n",
        "- text(): Para retornar o conteúdo do texto puro.\n",
        "\n",
        "2. Classe Palavra:\n",
        "\n",
        "Representa a palavra básica sem formatação. Implementa os métodos:\n",
        "- render(): Retorna a palavra sem qualquer modificação.\n",
        "- text(): Retorna o texto original da palavra.\n",
        "\n",
        "3. Decorator DecoratorTexto:\n",
        "\n",
        "Um decorator que encapsula um objeto TextoBase e delega a ele as chamadas para render() e text(). Serve como base para os decorators específicos (como negrito, itálico, e sublinhado).\n",
        "\n",
        "4. Decorators (Negrito, Italico, Sublinhado):\n",
        "\n",
        "Cada decorator estende DecoratorTexto e adiciona sua própria formatação ao conteúdo:\n",
        "- Negrito: Adiciona a tag  `<b>`  para exibir o texto em negrito.\n",
        "- Italico: Adiciona a tag `<i>` para exibir o texto em itálico.\n",
        "- Sublinhado: Adiciona a tag `<u>` para exibir o texto sublinhado.\n",
        "\n",
        "5. Teste:\n",
        "\n",
        "No bloco de teste, criamos uma palavra (\"exemplo\") e aplicamos diferentes combinações de formatação:\n",
        "- Primeiro, adicionamos negrito.\n",
        "- Depois, aplicamos itálico sobre o negrito.\n",
        "- Por fim, adicionamos sublinhado sobre o negrito e itálico.\n",
        "\n",
        "O código também imprime o texto puro, sem formatação, para comparação."
      ],
      "metadata": {
        "id": "wb8AqwZLHIFR"
      }
    }
  ]
}