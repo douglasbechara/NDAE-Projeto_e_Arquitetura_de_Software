{
  "nbformat": 4,
  "nbformat_minor": 0,
  "metadata": {
    "colab": {
      "provenance": []
    },
    "kernelspec": {
      "name": "python3",
      "display_name": "Python 3"
    },
    "language_info": {
      "name": "python"
    }
  },
  "cells": [
    {
      "cell_type": "markdown",
      "source": [
        "#**Universidade Federal do Pará**\n",
        "*Núcleo de Desenvolvimento Amazônico em Engenharia - NDAE*\n",
        "\n",
        "*Programa de Pós-graducação em Computação Aplicada - PPCA*\n",
        "\n",
        "*Disciplina: Projeto e Arquitetura de Software*\n",
        "- Professor Doutor Rodrigo Quites\n",
        "- Discente: Douglas Bechara Santos\n",
        "\n",
        "\n"
      ],
      "metadata": {
        "id": "0s_veHp8wBKr"
      }
    },
    {
      "cell_type": "markdown",
      "source": [
        "# **1.Definição do problema**\n",
        "\n",
        "Em uma cafeteria, possuímos várias máquinas de café, todas seguem o mesmo modo de funcionamento. A máquina de café pode estar em diferentes estados: **Pronto**, **Preparando**, **Desligado**. Dependendo do estado, o comportamento da máquina muda."
      ],
      "metadata": {
        "id": "dwfao_CTym2a"
      }
    },
    {
      "cell_type": "markdown",
      "source": [
        "# 2. Implementação do Padrão State em Python\n",
        "Objetivo\n",
        "\n",
        "O objetivo do código é demonstrar a aplicação do Padrão de Projeto State em Python. Esse padrão é utilizado para permitir que um objeto altere seu comportamento quando seu estado interno muda, sem que seja necessário alterar a lógica no código principal. Para este exemplo, os estados modelados são: Pronto, Preparando, e Desligado, que são simulados em uma visualização gráfica para facilitar o acompanhamento."
      ],
      "metadata": {
        "id": "eVr-4A2R2gFF"
      }
    },
    {
      "cell_type": "markdown",
      "source": [
        "# 3. Estrutura do Código\n",
        "1. Classe Abstrata State\n",
        "\n",
        "A interface State define o comportamento comum que todos os estados concretos deverão implementar. Essa classe é abstrata e contém o método handle, que é responsável por executar a ação específica de cada estado e determinar qual será o próximo estado.\n",
        "```\n",
        "class State(ABC):\n",
        "    @abstractmethod\n",
        "    def handle(self, context):\n",
        "        pass\n"
      ],
      "metadata": {
        "id": "9okPCChS28Zs"
      }
    },
    {
      "cell_type": "markdown",
      "source": [],
      "metadata": {
        "id": "FFuKUZue4MYF"
      }
    },
    {
      "cell_type": "markdown",
      "source": [
        "# 4. Estados Concretos\n",
        "Os três estados concretos são representados pelas classes EstadoPronto, EstadoPreparando, e EstadoDesligado. Cada uma dessas classes implementa o método handle da interface State, executando a ação correspondente ao estado atual e definindo qual será o próximo estado.\n",
        "\n",
        "**Estado Pronto:** Quando o sistema está \"Pronto\", ele se prepara para mudar para o estado \"Preparando\".\n",
        "\n",
        "**Estado Preparando:** O estado \"Preparando\" simula uma atividade e, em seguida, muda para o estado \"Desligado\".\n",
        "\n",
        "**Estado Desligado:** Quando o sistema está \"Desligado\", ele volta ao estado \"Pronto\".\n",
        "\n",
        "```\n",
        "class EstadoPronto(State):\n",
        "    def handle(self, context):\n",
        "        print(\"Estado: Pronto. Mudando para 'Preparando'.\")\n",
        "        context.set_estado(EstadoPreparando())\n",
        "\n",
        "class EstadoPreparando(State):\n",
        "    def handle(self, context):\n",
        "        print(\"Estado: Preparando. Mudando para 'Desligado'.\")\n",
        "        context.set_estado(EstadoDesligado())\n",
        "\n",
        "class EstadoDesligado(State):\n",
        "    def handle(self, context):\n",
        "        print(\"Estado: Desligado. Mudando para 'Pronto'.\")\n",
        "        context.set_estado(EstadoPronto())\n"
      ],
      "metadata": {
        "id": "pvDATTV14SI3"
      }
    },
    {
      "cell_type": "markdown",
      "source": [
        "# 5. Classe Contexto\n",
        "A classe Contexto mantém a referência ao estado atual do sistema e gerencia as transições entre os estados. Ela possui dois métodos principais:\n",
        "\n",
        "set_estado(novo_estado): Define qual será o novo estado do sistema.\n",
        "executar(): Delega a execução para o estado atual, chamando o método handle.\n",
        "```\n",
        "class Contexto:\n",
        "    def __init__(self, estado_inicial):\n",
        "        self.estado_atual = estado_inicial\n",
        "    \n",
        "    def set_estado(self, novo_estado):\n",
        "        self.estado_atual = novo_estado\n",
        "    \n",
        "    def executar(self):\n",
        "        self.estado_atual.handle(self)\n"
      ],
      "metadata": {
        "id": "C3N9aMsQ5uFe"
      }
    },
    {
      "cell_type": "markdown",
      "source": [
        "# 6. Visualização Gráfica\n",
        "Para tornar a transição de estados mais clara, foi implementada uma visualização simples utilizando a biblioteca matplotlib. A função exibir_estado_visual cria uma janela gráfica que exibe o estado atual através de um retângulo colorido. Cada estado tem uma cor específica:\n",
        "\n",
        "Pronto: Verde\n",
        "Preparando: Amarelo\n",
        "Desligado: Vermelho\n",
        "Conforme o estado muda, o retângulo muda de cor e o texto dentro dele é atualizado para refletir o estado atual.\n",
        "```\n",
        "def exibir_estado_visual(estado_atual):\n",
        "    fig, ax = plt.subplots()\n",
        "\n",
        "    if isinstance(estado_atual, EstadoPronto):\n",
        "        cor = \"green\"\n",
        "        texto = \"Pronto\"\n",
        "    elif isinstance(estado_atual, EstadoPreparando):\n",
        "        cor = \"yellow\"\n",
        "        texto = \"Preparando\"\n",
        "    else:\n",
        "        cor = \"red\"\n",
        "        texto = \"Desligado\"\n",
        "\n",
        "    ax.add_patch(patches.Rectangle((0.25, 0.25), 0.5, 0.5, edgecolor='black', facecolor=cor))\n",
        "    plt.text(0.5, 0.5, texto, horizontalalignment='center', verticalalignment='center', fontsize=15)\n",
        "    plt.xlim(0, 1)\n",
        "    plt.ylim(0, 1)\n",
        "    plt.axis('off')\n",
        "    plt.show()\n"
      ],
      "metadata": {
        "id": "AkkrGdrX53Ru"
      }
    },
    {
      "cell_type": "markdown",
      "source": [
        "# 7. Fluxo de Execução\n",
        "O programa começa criando uma instância da classe Contexto com o estado inicial definido como Pronto (EstadoPronto). O sistema passa por quatro ciclos de mudança de estado. A cada ciclo, o estado atual é visualizado graficamente e o estado é alterado de acordo com a lógica implementada nos estados concretos.\n",
        "```\n",
        "if __name__ == \"__main__\":\n",
        "    contexto = Contexto(EstadoPronto())\n",
        "\n",
        "    for _ in range(4):\n",
        "        exibir_estado_visual(contexto.estado_atual)\n",
        "        contexto.executar()\n",
        "        time.sleep(1)\n"
      ],
      "metadata": {
        "id": "vXyXQdVP6CL3"
      }
    },
    {
      "cell_type": "code",
      "source": [
        "# Importa uma funcionalidade para classes abstratas\n",
        "from abc import ABC, abstractmethod\n",
        "\n",
        "# Definição da interface State, que é uma classe abstrata\n",
        "class State(ABC):\n",
        "    # Método abstrato que será implementado pelos estados concretos\n",
        "    @abstractmethod\n",
        "    def handle(self, context):\n",
        "        pass\n",
        "\n",
        "# Estado \"Pronto\"\n",
        "class EstadoPronto(State):\n",
        "    def handle(self, context):\n",
        "        # Exibe a ação correspondente ao Estado \"Pronto\"\n",
        "        print(\"Estado: Pronto. Mudando para 'Preparando'.\")\n",
        "        # Mudança de estado: Após executar, troca para o Estado \"Preparando\"\n",
        "        context.set_estado(EstadoPreparando())\n",
        "\n",
        "# Estado \"Preparando\"\n",
        "class EstadoPreparando(State):\n",
        "    def handle(self, context):\n",
        "        # Exibe a ação correspondente ao Estado \"Preparando\"\n",
        "        print(\"Estado: Preparando. Mudando para 'Desligado'.\")\n",
        "        # Mudança de estado: Após executar, troca para o Estado \"Desligado\"\n",
        "        context.set_estado(EstadoDesligado())\n",
        "\n",
        "# Estado \"Desligado\"\n",
        "class EstadoDesligado(State):\n",
        "    def handle(self, context):\n",
        "        # Exibe a ação correspondente ao Estado \"Desligado\"\n",
        "        print(\"Estado: Desligado. Mudando para 'Pronto'.\")\n",
        "        # Mudança de estado: Após executar, troca para o Estado \"Pronto\"\n",
        "        context.set_estado(EstadoPronto())\n",
        "\n",
        "# Classe Contexto que mantém o estado atual\n",
        "class Contexto:\n",
        "    def __init__(self, estado_inicial):\n",
        "        # Atributo que mantém o estado atual\n",
        "        self.estado_atual = estado_inicial\n",
        "\n",
        "    # Método para trocar o estado atual\n",
        "    def set_estado(self, novo_estado):\n",
        "        self.estado_atual = novo_estado\n",
        "\n",
        "    # Método para executar a ação do estado atual\n",
        "    def executar(self):\n",
        "        self.estado_atual.handle(self)\n",
        "\n",
        "# Para criar algo visual, utilizaremos uma simulação simples\n",
        "import time\n",
        "import matplotlib.pyplot as plt\n",
        "import matplotlib.patches as patches\n",
        "\n",
        "# Função para exibir visualmente o estado\n",
        "def exibir_estado_visual(estado_atual):\n",
        "    fig, ax = plt.subplots()\n",
        "\n",
        "    # Criação do retângulo para o estado atual\n",
        "    if isinstance(estado_atual, EstadoPronto):\n",
        "        cor = \"green\"\n",
        "        texto = \"Pronto\"\n",
        "    elif isinstance(estado_atual, EstadoPreparando):\n",
        "        cor = \"yellow\"\n",
        "        texto = \"Preparando\"\n",
        "    else:\n",
        "        cor = \"red\"\n",
        "        texto = \"Desligado\"\n",
        "\n",
        "    # Desenhando o retângulo\n",
        "    ax.add_patch(patches.Rectangle((0.25, 0.25), 0.5, 0.5, edgecolor='black', facecolor=cor))\n",
        "    plt.text(0.5, 0.5, texto, horizontalalignment='center', verticalalignment='center', fontsize=15)\n",
        "\n",
        "    plt.xlim(0, 1)\n",
        "    plt.ylim(0, 1)\n",
        "    plt.axis('off')  # Ocultar os eixos\n",
        "    plt.show()\n",
        "\n",
        "# Testando o padrão State com uma visualização\n",
        "if __name__ == \"__main__\":\n",
        "    # Criar o contexto com o estado inicial \"Pronto\"\n",
        "    contexto = Contexto(EstadoPronto())  # Estado inicial é \"Pronto\"\n",
        "\n",
        "    # Executar o ciclo de mudança de estados 4 vezes para exibir visualmente\n",
        "    for _ in range(4):\n",
        "        # Executa o estado atual e mostra a visualização\n",
        "        exibir_estado_visual(contexto.estado_atual)\n",
        "        contexto.executar()  # Muda o estado\n",
        "        time.sleep(1)  # Pausa para ver o resultado antes de mudar o estado\n"
      ],
      "metadata": {
        "colab": {
          "base_uri": "https://localhost:8080/",
          "height": 1000
        },
        "id": "QdSGfVUA5eox",
        "outputId": "7a6930b0-11b0-43a8-ec54-09dc19707dfb"
      },
      "execution_count": 13,
      "outputs": [
        {
          "output_type": "display_data",
          "data": {
            "text/plain": [
              "<Figure size 640x480 with 1 Axes>"
            ],
            "image/png": "[encoded data removed]"
          },
          "metadata": {}
        },
        {
          "output_type": "stream",
          "name": "stdout",
          "text": [
            "Estado: Pronto. Mudando para 'Preparando'.\n"
          ]
        },
        {
          "output_type": "display_data",
          "data": {
            "text/plain": [
              "<Figure size 640x480 with 1 Axes>"
            ],
            "image/png": "[encoded data removed]"
          },
          "metadata": {}
        },
        {
          "output_type": "stream",
          "name": "stdout",
          "text": [
            "Estado: Preparando. Mudando para 'Desligado'.\n"
          ]
        },
        {
          "output_type": "display_data",
          "data": {
            "text/plain": [
              "<Figure size 640x480 with 1 Axes>"
            ],
            "image/png": "[encoded data removed]"
          },
          "metadata": {}
        },
        {
          "output_type": "stream",
          "name": "stdout",
          "text": [
            "Estado: Desligado. Mudando para 'Pronto'.\n"
          ]
        },
        {
          "output_type": "display_data",
          "data": {
            "text/plain": [
              "<Figure size 640x480 with 1 Axes>"
            ],
            "image/png": "[encoded data removed]"
          },
          "metadata": {}
        },
        {
          "output_type": "stream",
          "name": "stdout",
          "text": [
            "Estado: Pronto. Mudando para 'Preparando'.\n"
          ]
        }
      ]
    }
  ]
}